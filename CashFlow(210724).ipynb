{
 "cells": [
  {
   "cell_type": "code",
   "execution_count": 1,
   "metadata": {},
   "outputs": [],
   "source": [
    "import importlib\n",
    "import pandas as pd\n",
    "from pandas import Series, DataFrame\n",
    "import numpy as np\n",
    "from datetime import datetime\n",
    "from datetime import date\n",
    "from datetime import timedelta"
   ]
  },
  {
   "cell_type": "code",
   "execution_count": 2,
   "metadata": {},
   "outputs": [],
   "source": [
    "import PrjtCF_module as cf"
   ]
  },
  {
   "cell_type": "markdown",
   "metadata": {},
   "source": [
    "# Input Index Data"
   ]
  },
  {
   "cell_type": "code",
   "execution_count": 72,
   "metadata": {},
   "outputs": [],
   "source": [
    "# 기간 index 설정\n",
    "idx = cf.PrjtIndex(idxname=['prjt', 'loan'], \n",
    "                   start=['2021-01', '2021-02'], \n",
    "                   periods=[24+1, 20+1], \n",
    "                   freq='M')\n",
    "\n",
    "# 공정률 index 설정\n",
    "idx.prcs = Series(np.ones(len(idx)) / len(idx), index=idx.index)"
   ]
  },
  {
   "cell_type": "markdown",
   "metadata": {},
   "source": [
    "# Input Sales Data"
   ]
  },
  {
   "cell_type": "code",
   "execution_count": 73,
   "metadata": {},
   "outputs": [],
   "source": [
    "# Initialize Sales Data\n",
    "# Product A : 상온창고\n",
    "prdtA = cf.Account(idx, \"ProductA\", (\"Sales\", \"Prdt\"))\n",
    "prdtA.rent = 21_000 # 월 임대료 21,000원/평 가정\n",
    "prdtA.area = 8_000 # 면적 8,000평\n",
    "prdtA.cap = 0.053 # Cap rate 5.3%\n",
    "prdtA.amt = prdtA.rent * 12 * prdtA.area / prdtA.cap / 1_000_000\n",
    "prdtA.addamt(idx[0], prdtA.amt)\n",
    "prdtA.subscdd(idx[20], prdtA.amt)\n",
    "\n",
    "# Initialize Sales Data\n",
    "# Product B : 저온창고\n",
    "prdtB = cf.Account(idx, \"ProductB\", (\"Prdt\", \"B\"))\n",
    "prdtB.rent = 50_000 # 월 임대료 50,000원/평 가정\n",
    "prdtB.area = 6_500 # 면적 6,500평\n",
    "prdtB.cap = 0.058 # Cap rate 5.8%\n",
    "prdtB.amt = prdtB.rent * 12 * prdtB.area / prdtB.cap / 1_000_000\n",
    "prdtB.addamt(idx[0], prdtA.amt)\n",
    "prdtB.subscdd(idx[20], prdtB.amt)\n",
    "\n",
    "# Merge\n",
    "sales = cf.Merge({'prdtA':prdtA, 'prdtB':prdtB})"
   ]
  },
  {
   "cell_type": "markdown",
   "metadata": {},
   "source": [
    "# Input Cost Data"
   ]
  },
  {
   "cell_type": "code",
   "execution_count": 74,
   "metadata": {},
   "outputs": [],
   "source": [
    "dct_cost = {}\n",
    "\n",
    "# 토지비: 최초 1회 지급\n",
    "lnd = cf.Account(idx, \"Cost_Land\", (\"Cost\", \"Land\"))\n",
    "lnd.amt = 15_500.000\n",
    "lnd.addscdd(idx[1], lnd.amt)\n",
    "dct_cost['lnd'] = lnd\n",
    "\n",
    "# 공사비: 공정률에 따라 지급\n",
    "cstrn = cf.Account(idx, \"Cost_Construction\", (\"Cost\", \"Construction\"))\n",
    "cstrn.amt = 50_000.000 # 도급공사비\n",
    "cstrn.addscdd(idx.index, cstrn.amt * idx.prcs)\n",
    "dct_cost['cstrn'] = cstrn\n",
    "\n",
    "# 세금: 준공시 1회 지급\n",
    "tax = cf.Account(idx, \"Cost_Tax\", (\"Cost\", \"Tax\"))\n",
    "tax.amt = 3_000.000 # 각종 취득 제세금\n",
    "tax.addscdd(idx[20], tax.amt)\n",
    "dct_cost['tax'] = tax\n",
    "\n",
    "# 운영비: 매월 1회 지급\n",
    "oprtg = cf.Account(idx, \"Cost_Operation\", (\"Cost\", \"Operating\"))\n",
    "oprtg.amt = 2_200.000\n",
    "oprtg.addscdd(idx.index, np.ones(len(idx)) * oprtg.amt)\n",
    "dct_cost['oprtg'] = oprtg\n",
    "\n",
    "# Merge\n",
    "cost = cf.Merge(dct_cost)"
   ]
  },
  {
   "cell_type": "markdown",
   "metadata": {},
   "source": [
    "# Input Loan Data"
   ]
  },
  {
   "cell_type": "code",
   "execution_count": 75,
   "metadata": {},
   "outputs": [],
   "source": [
    "dct_loan = {}\n",
    "\n",
    "tra = cf.Loan(idx.loan, amt_ntnl=60_000, rate_fee=0.015,\n",
    "              rate_IR=0.05, title=\"Tr.A\", tag=(\"loan\", \"A\"))\n",
    "dct_loan['tra'] = tra\n",
    "\n",
    "trb = cf.Loan(idx.loan, amt_ntnl=20_000, rate_fee=0.03,\n",
    "              rate_IR=0.07, title=\"Tr.B\", tag=(\"loan\", \"B\"))\n",
    "dct_loan['trb'] = trb\n",
    "\n",
    "loan = cf.Merge(dct_loan)"
   ]
  },
  {
   "cell_type": "markdown",
   "metadata": {},
   "source": [
    "# Cash Flow"
   ]
  },
  {
   "cell_type": "code",
   "execution_count": 76,
   "metadata": {},
   "outputs": [],
   "source": [
    "# Make accounts\n",
    "acc_oprtg = cf.Account(idx, \"Operating Account\", (\"Account\", \"Operating\"))"
   ]
  },
  {
   "cell_type": "code",
   "execution_count": 77,
   "metadata": {},
   "outputs": [],
   "source": [
    "# Generating Unit Sales\n",
    "def make_sales(idxno):\n",
    "    sales['prdtA'].send(idxno, sales['prdtA'].sub_scdd[idxno], acc_oprtg)\n",
    "    sales['prdtB'].send(idxno, sales['prdtB'].sub_scdd[idxno], acc_oprtg)"
   ]
  },
  {
   "cell_type": "code",
   "execution_count": 78,
   "metadata": {},
   "outputs": [],
   "source": [
    "# Generating Unit Loan Notional Amt\n",
    "def pay_loan_ntnl(idxno):\n",
    "    if idxno in idx.loan.index:\n",
    "    \n",
    "        # pay notional amount of loan tra\n",
    "        amt_send_a = loan['tra'].ntnl.sub_scdd[idxno]\n",
    "        loan['tra'].ntnl.send(idxno, amt_send_a, acc_oprtg)\n",
    "    \n",
    "        # pay notional amount of loan tra\n",
    "        amt_send_b = loan['trb'].ntnl.sub_scdd[idxno]\n",
    "        loan['trb'].ntnl.send(idxno, amt_send_b, acc_oprtg)"
   ]
  },
  {
   "cell_type": "code",
   "execution_count": 79,
   "metadata": {},
   "outputs": [],
   "source": [
    "# Generating Unit Cost\n",
    "def make_cost(idxno):\n",
    "    for name, cst in cost.dct.items():\n",
    "        amt_send = cst.add_scdd[idxno]\n",
    "        acc_oprtg.send(idxno, amt_send, cst)"
   ]
  },
  {
   "cell_type": "code",
   "execution_count": 80,
   "metadata": {},
   "outputs": [],
   "source": [
    "# Make Cash Flow\n",
    "for idxno in idx.index:\n",
    "    make_sales(idxno)\n",
    "    pay_loan_ntnl(idxno)\n",
    "    make_cost(idxno)"
   ]
  },
  {
   "cell_type": "code",
   "execution_count": 91,
   "metadata": {},
   "outputs": [
    {
     "data": {
      "text/plain": [
       "2021-01-31    -4200.000000\n",
       "2021-02-28    56100.000000\n",
       "2021-03-31    51900.000000\n",
       "2021-04-30    47700.000000\n",
       "2021-05-31    43500.000000\n",
       "2021-06-30    39300.000000\n",
       "2021-07-31    35100.000000\n",
       "2021-08-31    30900.000000\n",
       "2021-09-30    26700.000000\n",
       "2021-10-31    22500.000000\n",
       "2021-11-30    18300.000000\n",
       "2021-12-31    14100.000000\n",
       "2022-01-31     9900.000000\n",
       "2022-02-28     5700.000000\n",
       "2022-03-31     1500.000000\n",
       "2022-04-30    -2700.000000\n",
       "2022-05-31    -6900.000000\n",
       "2022-06-30   -11100.000000\n",
       "2022-07-31   -15300.000000\n",
       "2022-08-31   -19500.000000\n",
       "2022-09-30   -26700.000000\n",
       "2022-10-31    74379.115159\n",
       "2022-11-30    70179.115159\n",
       "2022-12-31    65979.115159\n",
       "2023-01-31    61779.115159\n",
       "Name: bal_end, dtype: float64"
      ]
     },
     "execution_count": 91,
     "metadata": {},
     "output_type": "execute_result"
    }
   ],
   "source": [
    "acc_oprtg.df.bal_end"
   ]
  },
  {
   "cell_type": "code",
   "execution_count": null,
   "metadata": {},
   "outputs": [],
   "source": []
  }
 ],
 "metadata": {
  "kernelspec": {
   "display_name": "Python 3",
   "language": "python",
   "name": "python3"
  },
  "language_info": {
   "codemirror_mode": {
    "name": "ipython",
    "version": 3
   },
   "file_extension": ".py",
   "mimetype": "text/x-python",
   "name": "python",
   "nbconvert_exporter": "python",
   "pygments_lexer": "ipython3",
   "version": "3.7.6"
  }
 },
 "nbformat": 4,
 "nbformat_minor": 4
}
