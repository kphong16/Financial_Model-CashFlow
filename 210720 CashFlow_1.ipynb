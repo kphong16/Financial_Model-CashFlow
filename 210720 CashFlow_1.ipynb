{
 "cells": [
  {
   "cell_type": "code",
   "execution_count": 1,
   "metadata": {},
   "outputs": [],
   "source": [
    "import importlib\n",
    "import pandas as pd\n",
    "from pandas import Series, DataFrame\n",
    "import numpy as np\n",
    "import datetime as dt\n",
    "from datetime import datetime\n",
    "from datetime import timedelta\n",
    "from datetime import date\n",
    "\n",
    "import PrjtCF_module as cf\n",
    "from PrjtCF_module.account import Account"
   ]
  },
  {
   "cell_type": "code",
   "execution_count": 30,
   "metadata": {},
   "outputs": [],
   "source": [
    "from PrjtCF_module import account as acc"
   ]
  },
  {
   "cell_type": "code",
   "execution_count": 31,
   "metadata": {},
   "outputs": [
    {
     "data": {
      "text/plain": [
       "PrjtCF_module.account.Account"
      ]
     },
     "execution_count": 31,
     "metadata": {},
     "output_type": "execute_result"
    }
   ],
   "source": [
    "acc.Account"
   ]
  },
  {
   "cell_type": "code",
   "execution_count": 34,
   "metadata": {},
   "outputs": [
    {
     "ename": "ModuleNotFoundError",
     "evalue": "No module named 'genfunc'",
     "output_type": "error",
     "traceback": [
      "\u001b[0;31m---------------------------------------------------------------------------\u001b[0m",
      "\u001b[0;31mModuleNotFoundError\u001b[0m                       Traceback (most recent call last)",
      "\u001b[0;32m<ipython-input-34-6ef86a295fb6>\u001b[0m in \u001b[0;36m<module>\u001b[0;34m\u001b[0m\n\u001b[1;32m      1\u001b[0m \u001b[0;32mimport\u001b[0m \u001b[0mimportlib\u001b[0m\u001b[0;34m\u001b[0m\u001b[0;34m\u001b[0m\u001b[0m\n\u001b[0;32m----> 2\u001b[0;31m \u001b[0mimportlib\u001b[0m\u001b[0;34m.\u001b[0m\u001b[0mreload\u001b[0m\u001b[0;34m(\u001b[0m\u001b[0macc\u001b[0m\u001b[0;34m)\u001b[0m\u001b[0;34m\u001b[0m\u001b[0;34m\u001b[0m\u001b[0m\n\u001b[0m",
      "\u001b[0;32m/opt/anaconda3/lib/python3.7/importlib/__init__.py\u001b[0m in \u001b[0;36mreload\u001b[0;34m(module)\u001b[0m\n\u001b[1;32m    167\u001b[0m         \u001b[0;32mif\u001b[0m \u001b[0mspec\u001b[0m \u001b[0;32mis\u001b[0m \u001b[0;32mNone\u001b[0m\u001b[0;34m:\u001b[0m\u001b[0;34m\u001b[0m\u001b[0;34m\u001b[0m\u001b[0m\n\u001b[1;32m    168\u001b[0m             \u001b[0;32mraise\u001b[0m \u001b[0mModuleNotFoundError\u001b[0m\u001b[0;34m(\u001b[0m\u001b[0;34mf\"spec not found for the module {name!r}\"\u001b[0m\u001b[0;34m,\u001b[0m \u001b[0mname\u001b[0m\u001b[0;34m=\u001b[0m\u001b[0mname\u001b[0m\u001b[0;34m)\u001b[0m\u001b[0;34m\u001b[0m\u001b[0;34m\u001b[0m\u001b[0m\n\u001b[0;32m--> 169\u001b[0;31m         \u001b[0m_bootstrap\u001b[0m\u001b[0;34m.\u001b[0m\u001b[0m_exec\u001b[0m\u001b[0;34m(\u001b[0m\u001b[0mspec\u001b[0m\u001b[0;34m,\u001b[0m \u001b[0mmodule\u001b[0m\u001b[0;34m)\u001b[0m\u001b[0;34m\u001b[0m\u001b[0;34m\u001b[0m\u001b[0m\n\u001b[0m\u001b[1;32m    170\u001b[0m         \u001b[0;31m# The module may have replaced itself in sys.modules!\u001b[0m\u001b[0;34m\u001b[0m\u001b[0;34m\u001b[0m\u001b[0;34m\u001b[0m\u001b[0m\n\u001b[1;32m    171\u001b[0m         \u001b[0;32mreturn\u001b[0m \u001b[0msys\u001b[0m\u001b[0;34m.\u001b[0m\u001b[0mmodules\u001b[0m\u001b[0;34m[\u001b[0m\u001b[0mname\u001b[0m\u001b[0;34m]\u001b[0m\u001b[0;34m\u001b[0m\u001b[0;34m\u001b[0m\u001b[0m\n",
      "\u001b[0;32m/opt/anaconda3/lib/python3.7/importlib/_bootstrap.py\u001b[0m in \u001b[0;36m_exec\u001b[0;34m(spec, module)\u001b[0m\n",
      "\u001b[0;32m/opt/anaconda3/lib/python3.7/importlib/_bootstrap_external.py\u001b[0m in \u001b[0;36mexec_module\u001b[0;34m(self, module)\u001b[0m\n",
      "\u001b[0;32m/opt/anaconda3/lib/python3.7/importlib/_bootstrap.py\u001b[0m in \u001b[0;36m_call_with_frames_removed\u001b[0;34m(f, *args, **kwds)\u001b[0m\n",
      "\u001b[0;32m~/Documents/PyPrjt/[lib]PrjtCashFlowModel_v5/PrjtCF_module/account.py\u001b[0m in \u001b[0;36m<module>\u001b[0;34m\u001b[0m\n\u001b[1;32m      9\u001b[0m \u001b[0;32mfrom\u001b[0m \u001b[0mfunctools\u001b[0m \u001b[0;32mimport\u001b[0m \u001b[0mwraps\u001b[0m\u001b[0;34m\u001b[0m\u001b[0;34m\u001b[0m\u001b[0m\n\u001b[1;32m     10\u001b[0m \u001b[0;34m\u001b[0m\u001b[0m\n\u001b[0;32m---> 11\u001b[0;31m \u001b[0;32mimport\u001b[0m \u001b[0mgenfunc\u001b[0m\u001b[0;34m\u001b[0m\u001b[0;34m\u001b[0m\u001b[0m\n\u001b[0m\u001b[1;32m     12\u001b[0m \u001b[0;32mfrom\u001b[0m \u001b[0mindex\u001b[0m \u001b[0;32mimport\u001b[0m \u001b[0mIndex\u001b[0m\u001b[0;34m\u001b[0m\u001b[0;34m\u001b[0m\u001b[0m\n\u001b[1;32m     13\u001b[0m \u001b[0;31m# from . import genfunc\u001b[0m\u001b[0;34m\u001b[0m\u001b[0;34m\u001b[0m\u001b[0;34m\u001b[0m\u001b[0m\n",
      "\u001b[0;31mModuleNotFoundError\u001b[0m: No module named 'genfunc'"
     ]
    }
   ],
   "source": [
    "import importlib\n",
    "importlib.reload(acc)"
   ]
  },
  {
   "cell_type": "code",
   "execution_count": 51,
   "metadata": {},
   "outputs": [
    {
     "data": {
      "text/plain": [
       "<module 'PrjtCF_module' from '/Users/KP_Hong/Documents/PyPrjt/[lib]PrjtCashFlowModel_v5/PrjtCF_module/__init__.py'>"
      ]
     },
     "execution_count": 51,
     "metadata": {},
     "output_type": "execute_result"
    }
   ],
   "source": [
    "importlib.reload(cf)"
   ]
  },
  {
   "cell_type": "markdown",
   "metadata": {},
   "source": [
    "# Input Basic Data"
   ]
  },
  {
   "cell_type": "code",
   "execution_count": 2,
   "metadata": {},
   "outputs": [],
   "source": [
    "prd_prjt = 24 #개월\n",
    "prd_loan = 20 #개월\n",
    "idx_prjt = cf.Index('2021-01', periods=(prd_prjt+1), freq='M')\n",
    "idx_loan = cf.Index('2021-02', periods=(prd_loan+1), freq='M')"
   ]
  },
  {
   "cell_type": "markdown",
   "metadata": {},
   "source": [
    "# Input Sales Data"
   ]
  },
  {
   "cell_type": "code",
   "execution_count": 3,
   "metadata": {},
   "outputs": [],
   "source": [
    "# Initial Sales Data\n",
    "# Product A : 상온창고\n",
    "prdtA = cf.Account(idx_prjt, \"ProductA\", (\"Prdt\", \"A\"))\n",
    "prdtA.rent = 21_000 # 월 임대료 21,000원/평 가정\n",
    "prdtA.area = 8_000 # 면적 8,000평\n",
    "prdtA.cap = 0.053 # Cap rate 5.3%\n",
    "prdtA.amt = prdtA.rent * 12 * prdtA.area / prdtA.cap / 1_000_000\n",
    "prdtA.addamt(prdtA.index[0], prdtA.amt)\n",
    "prdtA.subscdd(prdtA.index[21], prdtA.amt)\n",
    "\n",
    "# Initial Sales Data\n",
    "# Product B : 저온창고\n",
    "prdtB = cf.Account(idx_prjt, \"ProductB\", (\"Prdt\", \"B\"))\n",
    "prdtB.rent = 50_000 # 월 임대료 50,000원/평 가정\n",
    "prdtB.area = 6_500 # 면적 6,500평\n",
    "prdtB.cap = 0.058 # Cap rate 5.8%\n",
    "prdtB.amt = prdtB.rent * 12 * prdtB.area / prdtB.cap / 1_000_000\n",
    "prdtB.addamt(prdtB.index[0], prdtA.amt)\n",
    "prdtB.subscdd(prdtB.index[21], prdtB.amt)\n",
    "\n",
    "# Merge\n",
    "sales = cf.Merge({'prdtA':prdtA, 'prdtB':prdtB})"
   ]
  },
  {
   "cell_type": "markdown",
   "metadata": {},
   "source": [
    "# Input Cost Data"
   ]
  },
  {
   "cell_type": "code",
   "execution_count": 4,
   "metadata": {},
   "outputs": [],
   "source": [
    "dct_cost = {}\n",
    "\n",
    "# 공정률\n",
    "idx_prjt.prcs_rate = Series(np.ones(len(idx_prjt)) / len(idx_prjt), \n",
    "                       index=idx_prjt.index)\n",
    "\n",
    "# Initial Cost Data\n",
    "cstlnd = cf.Account(idx_prjt, \"Cost_Land\", (\"Cost\", \"Land\"))\n",
    "cstlnd.amt = 15_500.000 # 최초 1회 지급\n",
    "cstlnd.addscdd(idx_prjt.index[0], cstlnd.amt)\n",
    "dct_cost['cstlnd'] = cstlnd\n",
    "\n",
    "cstcstrn = cf.Account(idx_prjt, \"Cost_Construction\", (\"Cost\", \"Construction\"))\n",
    "cstcstrn.amt = 50_000.000 # 공사비(지급) : 공정률에 따라 지급\n",
    "cstcstrn.addscdd(idx_prjt.index, cstcstrn.amt * idx_prjt.prcs_rate)\n",
    "dct_cost['cstcstrn'] = cstcstrn\n",
    "\n",
    "cstcstrnb = cf.Account(idx_prjt, \"Cost_Construction B\", (\"Cost\", \"ConstructionB\"))\n",
    "cstcstrnb.amt = 3_000.000 # 최초 1회 지급\n",
    "cstcstrnb.addscdd(idx_prjt.index[0], cstcstrnb.amt)\n",
    "dct_cost['cstcstrnb'] = cstcstrnb\n",
    "\n",
    "cstmrktg = cf.Account(idx_prjt, \"Cost_Marketing\", (\"Cost\", \"Marketing\"))\n",
    "cstmrktg.amt = 2_000.000 # 공정률에 따라 지급\n",
    "cstmrktg.addscdd(idx_prjt.index, cstmrktg.amt * idx_prjt.prcs_rate)\n",
    "dct_cost['cstmrktg'] = cstmrktg\n",
    "\n",
    "csttax = cf.Account(idx_prjt, \"Cost_Tax\", (\"Cost\", \"Tax\"))\n",
    "csttax.amt = 3_000.000 # 준공시 1회 지급\n",
    "csttax.addscdd(idx_prjt.index[11], csttax.amt)\n",
    "dct_cost['csttax'] = csttax\n",
    "\n",
    "cstoprtg = cf.Account(idx_prjt, \"Cost_Operating\", (\"Cost\", \"Operating\"))\n",
    "cstoprtg.amt = 2_200.000\n",
    "cstoprtg.addscdd(idx_prjt.index, cstoprtg.amt * idx_prjt.prcs_rate)\n",
    "dct_cost['cstoprtg'] = cstoprtg\n",
    "\n",
    "cost = cf.Merge(dct_cost)"
   ]
  },
  {
   "cell_type": "markdown",
   "metadata": {},
   "source": [
    "# Input Loan Data"
   ]
  },
  {
   "cell_type": "code",
   "execution_count": 24,
   "metadata": {},
   "outputs": [],
   "source": [
    "dct_loan = {}\n",
    "\n",
    "tra = cf.Loan(idx_loan, amt_ntnl=60_000, rate_fee=0.015, \n",
    "             rate_IR=0.05, title=\"Tr.A\", tag=(\"loan\", \"A\"))\n",
    "dct_loan['tra'] = tra\n",
    "\n",
    "trb = cf.Loan(idx_loan, amt_ntnl=20_000, rate_fee=0.03, \n",
    "             rate_IR=0.07, title=\"Tr.B\", tag=(\"loan\", \"B\"))\n",
    "dct_loan['trb'] = trb\n",
    "\n",
    "loan = cf.Merge(dct_loan)"
   ]
  },
  {
   "cell_type": "markdown",
   "metadata": {},
   "source": [
    "# Cash Flow"
   ]
  },
  {
   "cell_type": "code",
   "execution_count": null,
   "metadata": {},
   "outputs": [],
   "source": [
    "# Make accounts\n",
    "acc_oprtg = cf.Account(idx_prjt, \"Operating Account\", (\"Account\", \"Operating\"))\n"
   ]
  }
 ],
 "metadata": {
  "kernelspec": {
   "display_name": "Python 3",
   "language": "python",
   "name": "python3"
  },
  "language_info": {
   "codemirror_mode": {
    "name": "ipython",
    "version": 3
   },
   "file_extension": ".py",
   "mimetype": "text/x-python",
   "name": "python",
   "nbconvert_exporter": "python",
   "pygments_lexer": "ipython3",
   "version": "3.7.6"
  }
 },
 "nbformat": 4,
 "nbformat_minor": 4
}
